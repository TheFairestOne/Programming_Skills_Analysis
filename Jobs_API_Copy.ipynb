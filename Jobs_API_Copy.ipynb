{
 "cells": [
  {
   "cell_type": "markdown",
   "id": "a66c1692-9c84-41ec-a135-b417ef41344d",
   "metadata": {},
   "source": [
    "<center>\n",
    "    <img src=\"https://cf-courses-data.s3.us.cloud-object-storage.appdomain.cloud/IBM-DA0321EN-SkillsNetwork/labs/module%201/images/IDSNlogo.png\" width=\"300\" alt=\"cognitiveclass.ai logo\"  />\n",
    "</center>\n"
   ]
  },
  {
   "cell_type": "markdown",
   "id": "6e786144-f1e4-45ee-b287-f2f4b87300d3",
   "metadata": {},
   "source": [
    "# **JOBS API Implementation Using FLASK**\n"
   ]
  },
  {
   "cell_type": "markdown",
   "id": "817156a7-4bab-46b8-9a67-55f3b0564c01",
   "metadata": {},
   "source": [
    "## Objectives\n",
    "\n",
    "This code needs to be executed so that the client application **Collecting Jobs API** can access this code executing on the server."
   ]
  },
  {
   "cell_type": "code",
   "execution_count": 1,
   "id": "4ac527ce-f921-44e2-b729-28ed03634a8e",
   "metadata": {},
   "outputs": [
    {
     "name": "stdout",
     "output_type": "stream",
     "text": [
      "Requirement already satisfied: flask in /opt/anaconda3/lib/python3.9/site-packages (1.1.2)\n",
      "Requirement already satisfied: Jinja2>=2.10.1 in /opt/anaconda3/lib/python3.9/site-packages (from flask) (2.11.3)\n",
      "Requirement already satisfied: Werkzeug>=0.15 in /opt/anaconda3/lib/python3.9/site-packages (from flask) (2.0.2)\n",
      "Requirement already satisfied: itsdangerous>=0.24 in /opt/anaconda3/lib/python3.9/site-packages (from flask) (2.0.1)\n",
      "Requirement already satisfied: click>=5.1 in /opt/anaconda3/lib/python3.9/site-packages (from flask) (8.0.3)\n",
      "Requirement already satisfied: MarkupSafe>=0.23 in /opt/anaconda3/lib/python3.9/site-packages (from Jinja2>=2.10.1->flask) (1.1.1)\n"
     ]
    }
   ],
   "source": [
    "!pip install flask"
   ]
  },
  {
   "cell_type": "markdown",
   "id": "0e5bba17-58e7-49a4-8040-0831e93466f5",
   "metadata": {},
   "source": [
    "## Dataset Used in this Project\n",
    "\n",
    "The dataset used in this lab comes from the following source: [https://www.kaggle.com/promptcloud/jobs-on-naukricom](https://www.kaggle.com/promptcloud/jobs-on-naukricom?utm_medium=Exinfluencer&utm_source=Exinfluencer&utm_content=000026UJ&utm_term=10006555&utm_id=NA-SkillsNetwork-Channel-SkillsNetworkCoursesIBMDA0321ENSkillsNetwork21426264-2021-01-01) under the under a **Public Domain license**.\n"
   ]
  },
  {
   "cell_type": "code",
   "execution_count": 16,
   "id": "c2eed468-b4cd-481a-a18e-1851e2fc7a4a",
   "metadata": {},
   "outputs": [
    {
     "name": "stdout",
     "output_type": "stream",
     "text": [
      "  % Total    % Received % Xferd  Average Speed   Time    Time     Time  Current\n",
      "                                 Dload  Upload   Total   Spent    Left  Speed\n",
      "100 12.2M  100 12.2M    0     0  1974k      0  0:00:06  0:00:06 --:--:-- 2226k\n"
     ]
    }
   ],
   "source": [
    "!curl -O  https://cf-courses-data.s3.us.cloud-object-storage.appdomain.cloud/IBM-DA0321EN-SkillsNetwork/labs/module%201/Accessing%20Data%20Using%20APIs/jobs.json"
   ]
  },
  {
   "cell_type": "code",
   "execution_count": null,
   "id": "21697c9d",
   "metadata": {},
   "outputs": [
    {
     "name": "stdout",
     "output_type": "stream",
     "text": [
      " * Serving Flask app \"__main__\" (lazy loading)\n",
      " * Environment: production\n",
      "\u001b[31m   WARNING: This is a development server. Do not use it in a production deployment.\u001b[0m\n",
      "\u001b[2m   Use a production WSGI server instead.\u001b[0m\n",
      " * Debug mode: off\n"
     ]
    },
    {
     "name": "stderr",
     "output_type": "stream",
     "text": [
      " * Running on http://127.0.0.1:5000/ (Press CTRL+C to quit)\n",
      "127.0.0.1 - - [14/Mar/2022 23:25:55] \"GET /data?Key+Skills=Python HTTP/1.1\" 200 -\n",
      "127.0.0.1 - - [14/Mar/2022 23:28:05] \"GET /data?Location=Los+Angeles HTTP/1.1\" 200 -\n",
      "127.0.0.1 - - [14/Mar/2022 23:30:49] \"GET /data?Location=Chicago HTTP/1.1\" 200 -\n",
      "127.0.0.1 - - [14/Mar/2022 23:30:49] \"GET /data?Location=San+Francisco HTTP/1.1\" 200 -\n",
      "127.0.0.1 - - [14/Mar/2022 23:30:49] \"GET /data?Location=Detroit HTTP/1.1\" 200 -\n",
      "127.0.0.1 - - [14/Mar/2022 23:30:49] \"GET /data?Location=Los+Angeles HTTP/1.1\" 200 -\n",
      "127.0.0.1 - - [14/Mar/2022 23:37:59] \"GET /data?Key+Skills=C HTTP/1.1\" 200 -\n",
      "127.0.0.1 - - [14/Mar/2022 23:37:59] \"GET /data?Key+Skills=C%23 HTTP/1.1\" 200 -\n",
      "127.0.0.1 - - [14/Mar/2022 23:37:59] \"GET /data?Key+Skills=C%2B%2B HTTP/1.1\" 200 -\n",
      "127.0.0.1 - - [14/Mar/2022 23:37:59] \"GET /data?Key+Skills=Java HTTP/1.1\" 200 -\n",
      "127.0.0.1 - - [14/Mar/2022 23:37:59] \"GET /data?Key+Skills=JavaScript HTTP/1.1\" 200 -\n",
      "127.0.0.1 - - [14/Mar/2022 23:37:59] \"GET /data?Key+Skills=Python HTTP/1.1\" 200 -\n",
      "127.0.0.1 - - [14/Mar/2022 23:37:59] \"GET /data?Key+Skills=Scala HTTP/1.1\" 200 -\n",
      "127.0.0.1 - - [14/Mar/2022 23:37:59] \"GET /data?Key+Skills=Oracle HTTP/1.1\" 200 -\n",
      "127.0.0.1 - - [14/Mar/2022 23:37:59] \"GET /data?Key+Skills=SQL+Server HTTP/1.1\" 200 -\n",
      "127.0.0.1 - - [14/Mar/2022 23:37:59] \"GET /data?Key+Skills=MySQL+Server HTTP/1.1\" 200 -\n",
      "127.0.0.1 - - [14/Mar/2022 23:37:59] \"GET /data?Key+Skills=PostgreSQL HTTP/1.1\" 200 -\n",
      "127.0.0.1 - - [14/Mar/2022 23:37:59] \"GET /data?Key+Skills=MongoDB HTTP/1.1\" 200 -\n",
      "127.0.0.1 - - [14/Mar/2022 23:43:12] \"GET /data?Location=Chicago HTTP/1.1\" 200 -\n",
      "127.0.0.1 - - [14/Mar/2022 23:43:12] \"GET /data?Location=San+Francisco HTTP/1.1\" 200 -\n",
      "127.0.0.1 - - [14/Mar/2022 23:43:12] \"GET /data?Location=Detroit HTTP/1.1\" 200 -\n",
      "127.0.0.1 - - [14/Mar/2022 23:43:12] \"GET /data?Location=Los+Angeles HTTP/1.1\" 200 -\n",
      "127.0.0.1 - - [14/Mar/2022 23:43:51] \"GET /data?Location=Chicago HTTP/1.1\" 200 -\n",
      "127.0.0.1 - - [14/Mar/2022 23:43:51] \"GET /data?Location=San+Francisco HTTP/1.1\" 200 -\n",
      "127.0.0.1 - - [14/Mar/2022 23:43:51] \"GET /data?Location=Detroit HTTP/1.1\" 200 -\n",
      "127.0.0.1 - - [14/Mar/2022 23:43:51] \"GET /data?Location=Los+Angeles HTTP/1.1\" 200 -\n",
      "127.0.0.1 - - [14/Mar/2022 23:46:00] \"GET /data?Location=Chicago HTTP/1.1\" 200 -\n",
      "127.0.0.1 - - [14/Mar/2022 23:46:01] \"GET /data?Location=San+Francisco HTTP/1.1\" 200 -\n",
      "127.0.0.1 - - [14/Mar/2022 23:46:01] \"GET /data?Location=Detroit HTTP/1.1\" 200 -\n",
      "127.0.0.1 - - [14/Mar/2022 23:46:01] \"GET /data?Location=Los+Angeles HTTP/1.1\" 200 -\n",
      "127.0.0.1 - - [14/Mar/2022 23:46:59] \"GET /data?Location=Chicago HTTP/1.1\" 200 -\n",
      "127.0.0.1 - - [14/Mar/2022 23:46:59] \"GET /data?Location=San+Francisco HTTP/1.1\" 200 -\n",
      "127.0.0.1 - - [14/Mar/2022 23:46:59] \"GET /data?Location=Detroit HTTP/1.1\" 200 -\n",
      "127.0.0.1 - - [14/Mar/2022 23:46:59] \"GET /data?Location=Los+Angeles HTTP/1.1\" 200 -\n",
      "127.0.0.1 - - [14/Mar/2022 23:48:13] \"GET /data?Key+Skills=C HTTP/1.1\" 200 -\n",
      "127.0.0.1 - - [14/Mar/2022 23:48:13] \"GET /data?Key+Skills=C%23 HTTP/1.1\" 200 -\n",
      "127.0.0.1 - - [14/Mar/2022 23:48:13] \"GET /data?Key+Skills=C%2B%2B HTTP/1.1\" 200 -\n",
      "127.0.0.1 - - [14/Mar/2022 23:48:13] \"GET /data?Key+Skills=Java HTTP/1.1\" 200 -\n",
      "127.0.0.1 - - [14/Mar/2022 23:48:13] \"GET /data?Key+Skills=JavaScript HTTP/1.1\" 200 -\n",
      "127.0.0.1 - - [14/Mar/2022 23:48:13] \"GET /data?Key+Skills=Python HTTP/1.1\" 200 -\n",
      "127.0.0.1 - - [14/Mar/2022 23:48:13] \"GET /data?Key+Skills=Scala HTTP/1.1\" 200 -\n",
      "127.0.0.1 - - [14/Mar/2022 23:48:13] \"GET /data?Key+Skills=Oracle HTTP/1.1\" 200 -\n",
      "127.0.0.1 - - [14/Mar/2022 23:48:14] \"GET /data?Key+Skills=SQL+Server HTTP/1.1\" 200 -\n",
      "127.0.0.1 - - [14/Mar/2022 23:48:14] \"GET /data?Key+Skills=MySQL+Server HTTP/1.1\" 200 -\n",
      "127.0.0.1 - - [14/Mar/2022 23:48:14] \"GET /data?Key+Skills=PostgreSQL HTTP/1.1\" 200 -\n",
      "127.0.0.1 - - [14/Mar/2022 23:48:14] \"GET /data?Key+Skills=MongoDB HTTP/1.1\" 200 -\n"
     ]
    }
   ],
   "source": [
    "import flask\n",
    "from flask import request, jsonify\n",
    "import requests\n",
    "import re\n",
    "\n",
    "def get_data(key,value,current):\n",
    "    results = list()\n",
    "    for rec in current:\n",
    "        \n",
    "        if rec[key].find(value) != -1:\n",
    "            results.append(rec)\n",
    "    return results\n",
    "\n",
    "app = flask.Flask(__name__)\n",
    "\n",
    "import json\n",
    "data = None\n",
    "with open('jobs.json',encoding='utf-8') as f:\n",
    "    # returns JSON object as\n",
    "    # a dictionary\n",
    "    data = json.load(f)\n",
    "    \n",
    "    \n",
    "\n",
    "@app.route('/', methods=['GET'])\n",
    "def home():\n",
    "    \n",
    "    return '''<h1>Welcome to flask JOB search API</p>'''\n",
    "\n",
    "\n",
    "@app.route('/data/all', methods=['GET'])\n",
    "def api_all():\n",
    "    return jsonify(data)\n",
    "\n",
    "\n",
    "@app.route('/data', methods=['GET'])\n",
    "def api_id():\n",
    "    # Check if keys such as Job Title,KeySkills, Role Category and others  are provided as part of the URL.\n",
    "    #  Assign the keys to the corresponding variables..\n",
    "    # If no key is provided, display an error in the browser.\n",
    "    res = None\n",
    "    for req in request.args:\n",
    "        \n",
    "        if req == 'Job Title':\n",
    "            key = 'Job Title'\n",
    "        elif req == 'Job Experience Required' :\n",
    "            key='Job Experience Required'\n",
    "        elif req == 'Key Skills' :\n",
    "            key='Key Skills'\n",
    "            \n",
    "        elif req == 'Role Category' :\n",
    "            key='Role Category'\n",
    "        elif req == 'Location' :\n",
    "            key='Location'\n",
    "        \n",
    "        elif req == 'Functional Area' :\n",
    "            key='Functional Area'\n",
    "        \n",
    "        elif req == 'Industry' :\n",
    "            key='Industry'\n",
    "        elif req == 'Role' :\n",
    "            key='Role'\n",
    "        elif req==\"id\":\n",
    "             key=\"id\"\n",
    "        else:\n",
    "            pass\n",
    "    \n",
    "        value = request.args[key]\n",
    "        if (res==None):\n",
    "            res = get_data(key,value,data)\n",
    "        else:\n",
    "            res = get_data(key,value,res)\n",
    "\n",
    "    # Use the jsonify function from Flask to convert our list of\n",
    "    # Python dictionaries to the JSON format.\n",
    "    return jsonify(res)\n",
    "\n",
    "app.run()"
   ]
  },
  {
   "cell_type": "markdown",
   "id": "c3599fa2-05b9-4285-9699-08dc2f14c7f2",
   "metadata": {},
   "source": [
    "## Author\n"
   ]
  },
  {
   "cell_type": "markdown",
   "id": "b47c3a9c-437a-4067-a532-a7765443fbe7",
   "metadata": {},
   "source": [
    "Lakshmi Holla\n"
   ]
  },
  {
   "cell_type": "markdown",
   "id": "5f42fdbf-c7b7-409f-b435-28d64d1607e3",
   "metadata": {},
   "source": [
    "### Other Contributors\n"
   ]
  },
  {
   "cell_type": "markdown",
   "id": "c323fbe6-dc6a-4dbc-9569-74c9041ea88c",
   "metadata": {},
   "source": [
    "Chris Fair\\\n",
    "Malika Singla\\\n",
    "Ayushi Jain\n"
   ]
  }
 ],
 "metadata": {
  "kernelspec": {
   "display_name": "Python 3 (ipykernel)",
   "language": "python",
   "name": "python3"
  },
  "language_info": {
   "codemirror_mode": {
    "name": "ipython",
    "version": 3
   },
   "file_extension": ".py",
   "mimetype": "text/x-python",
   "name": "python",
   "nbconvert_exporter": "python",
   "pygments_lexer": "ipython3",
   "version": "3.9.7"
  }
 },
 "nbformat": 4,
 "nbformat_minor": 5
}

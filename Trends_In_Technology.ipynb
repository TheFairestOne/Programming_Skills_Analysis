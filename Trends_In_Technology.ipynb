{
 "cells": [
  {
   "cell_type": "markdown",
   "id": "9b1322ba",
   "metadata": {},
   "source": [
    "# Emerging Programming Skills Analysis"
   ]
  },
  {
   "cell_type": "markdown",
   "id": "f0b2c626",
   "metadata": {},
   "source": [
    "## Chris Fair"
   ]
  },
  {
   "cell_type": "markdown",
   "id": "30d61bd2",
   "metadata": {},
   "source": [
    "### March 14, 2022"
   ]
  },
  {
   "cell_type": "markdown",
   "id": "f4305d8e",
   "metadata": {},
   "source": [
    "==============================================================================================================="
   ]
  },
  {
   "cell_type": "markdown",
   "id": "9f9d4e20",
   "metadata": {},
   "source": [
    "# Contents\n",
    "- [Identifying Potential Skills Gaps](#Identifying-Potential-Skills-Gaps)\n",
    "- [Importing Data](#Importing-Data)\n",
    "    - [Collecting Data Using Webscraping](#Collecting-Data-Using-Webscraping)\n",
    "    - [Loading StackOverflow Survey Data](#Loading-StackOverflow-Survey-Data)\n",
    "- [Data Wrangling](#Data-Wrangling)\n",
    "    -[Normalizing Pay Data](#Normalizaing-Pay-Data)\n",
    "    -[Imputing Missing Values](#Imputing-Missing-Values)\n",
    "- [Exploratory Data Analysis](#Exploratory-Data-Analysis)\n",
    "    - [Distribution](#Distribution)\n",
    "    - [Outliers](#Outliers)\n",
    "    - [Re-examining Distribution After Removal of Outliers](#Re-examining-Distribution-After-Removal-of-Outliers)\n",
    "    - [Correlations](#Correlations)\n",
    "- [Exporting Data](#Exporting-Data)"
   ]
  },
  {
   "cell_type": "markdown",
   "id": "66e48370",
   "metadata": {},
   "source": [
    "# Identifying Potential Skills Gaps"
   ]
  },
  {
   "cell_type": "markdown",
   "id": "aed9cb0d",
   "metadata": {},
   "source": [
    "The purpose of this analysis is to investigate current trends in technology usage and skills. More specifically, it is intended to look at current program language, database, webframe, and platform useage and see how those demands are expected to change in the future.\n",
    "\n",
    "To accomplish this goal, data was taken from a [StackOverflow survey](https://stackoverflow.blog/2019/04/09/the-2019-stack-overflow-developer-survey-results-are-in) and obtained from GitHub jobs via utilization of their API and webscraping. "
   ]
  },
  {
   "cell_type": "markdown",
   "id": "1b9579a0",
   "metadata": {},
   "source": [
    "Importing necessary libraries"
   ]
  },
  {
   "cell_type": "code",
   "execution_count": 406,
   "id": "d516fec2",
   "metadata": {},
   "outputs": [
    {
     "name": "stdout",
     "output_type": "stream",
     "text": [
      "Matplotlib version:  3.4.3\n",
      "Requirement already satisfied: forex-python in /opt/anaconda3/lib/python3.9/site-packages (1.8)\n",
      "Requirement already satisfied: requests in /opt/anaconda3/lib/python3.9/site-packages (from forex-python) (2.26.0)\n",
      "Requirement already satisfied: simplejson in /opt/anaconda3/lib/python3.9/site-packages (from forex-python) (3.17.6)\n",
      "Requirement already satisfied: charset-normalizer~=2.0.0 in /opt/anaconda3/lib/python3.9/site-packages (from requests->forex-python) (2.0.4)\n",
      "Requirement already satisfied: idna<4,>=2.5 in /opt/anaconda3/lib/python3.9/site-packages (from requests->forex-python) (3.2)\n",
      "Requirement already satisfied: certifi>=2017.4.17 in /opt/anaconda3/lib/python3.9/site-packages (from requests->forex-python) (2021.10.8)\n",
      "Requirement already satisfied: urllib3<1.27,>=1.21.1 in /opt/anaconda3/lib/python3.9/site-packages (from requests->forex-python) (1.26.7)\n"
     ]
    }
   ],
   "source": [
    "import requests\n",
    "from bs4 import BeautifulSoup\n",
    "import csv\n",
    "\n",
    "import pandas as pd\n",
    "import numpy as np\n",
    "%matplotlib inline\n",
    "\n",
    "import matplotlib as mpl\n",
    "import matplotlib.pyplot as plt\n",
    "print('Matplotlib version: ', mpl.__version__) # >= 2.0.0\n",
    "\n",
    "from scipy.stats import norm\n",
    "import statistics as stats\n",
    "import seaborn as sns\n",
    "\n",
    "import datetime\n",
    "!pip install forex-python\n",
    "from forex_python.converter import CurrencyRates"
   ]
  },
  {
   "cell_type": "markdown",
   "id": "02ae9ae8",
   "metadata": {},
   "source": [
    "# Importing Data"
   ]
  },
  {
   "cell_type": "markdown",
   "id": "682fe325",
   "metadata": {},
   "source": [
    "For this project there were three separate data sources used. The first two, webscraping and importing survey response data, are carried out in this notebook. The third data source was obtained using the GitHub jobs API and is carried out in the notebook titled [\"Collecting_Jobs_data_Using_API.ipynb\"](https://github.com/TheFairestOne/Programming_Skills_Analysis), which is located in the same repository as this notebook."
   ]
  },
  {
   "cell_type": "markdown",
   "id": "42111bdd",
   "metadata": {},
   "source": [
    "## Collecting Data Using Webscraping"
   ]
  },
  {
   "cell_type": "markdown",
   "id": "fefc590e",
   "metadata": {},
   "source": [
    "The below URL contains some basic average pay and programming language data that is being scraped and will be included as additional info in the report appendices."
   ]
  },
  {
   "cell_type": "code",
   "execution_count": 407,
   "id": "ad02ff92",
   "metadata": {},
   "outputs": [],
   "source": [
    "#this url contains the programming language and pay data that needs to be scraped\n",
    "url = \"https://cf-courses-data.s3.us.cloud-object-storage.appdomain.cloud/IBM-DA0321EN-SkillsNetwork/labs/datasets/Programming_Languages.html\""
   ]
  },
  {
   "cell_type": "markdown",
   "id": "87672c4c",
   "metadata": {},
   "source": [
    "Downloading the webpage at the URL and creating a soup object."
   ]
  },
  {
   "cell_type": "code",
   "execution_count": 408,
   "id": "f5783296",
   "metadata": {},
   "outputs": [],
   "source": [
    "data = requests.get(url).text\n",
    "soup = BeautifulSoup(data,'html5lib')"
   ]
  },
  {
   "cell_type": "markdown",
   "id": "a7d5020b",
   "metadata": {},
   "source": [
    "Scraping the programming language name and annual average salary."
   ]
  },
  {
   "cell_type": "code",
   "execution_count": 409,
   "id": "a8cefe62",
   "metadata": {},
   "outputs": [
    {
     "name": "stdout",
     "output_type": "stream",
     "text": [
      "Language--->Average Annual Salary\n",
      "Python--->$114,383\n",
      "Java--->$101,013\n",
      "R--->$92,037\n",
      "Javascript--->$110,981\n",
      "Swift--->$130,801\n",
      "C++--->$113,865\n",
      "C#--->$88,726\n",
      "PHP--->$84,727\n",
      "SQL--->$84,793\n",
      "Go--->$94,082\n"
     ]
    }
   ],
   "source": [
    "table = soup.find('table')\n",
    "csv_data = list()\n",
    "#Get all rows from the table\n",
    "for row in table.find_all('tr'): # in html table row is represented by the tag <tr>\n",
    "    # Get all columns in each row.\n",
    "    cols = row.find_all('td') # in html a column is represented by the tag <td>\n",
    "    language = cols[1].getText() # store the value in column 3 as color_name\n",
    "    avg_salary = cols[3].getText() # store the value in column 4 as color_code\n",
    "    csv_data.append([language,avg_salary])\n",
    "    print(\"{}--->{}\".format(language,avg_salary))"
   ]
  },
  {
   "cell_type": "markdown",
   "id": "ae54e468",
   "metadata": {},
   "source": [
    "Saving the scraped data into a csv file to be used later."
   ]
  },
  {
   "cell_type": "code",
   "execution_count": 410,
   "id": "45a48056",
   "metadata": {},
   "outputs": [],
   "source": [
    "with open('popular-languages.csv', 'w', newline='') as f:\n",
    "    writer = csv.writer(f)\n",
    "\n",
    "    # write the header\n",
    "    writer.writerow(csv_data)"
   ]
  },
  {
   "cell_type": "markdown",
   "id": "b3519b86",
   "metadata": {},
   "source": [
    "## Loading StackOverflow Survey Data"
   ]
  },
  {
   "cell_type": "markdown",
   "id": "8f5569bc",
   "metadata": {},
   "source": [
    "The original dataset has around 90,000 responses and is availabele [here](https://stackoverflow.blog/2019/04/09/the-2019-stack-overflow-developer-survey-results-are-in/?utm_medium=Exinfluencer&utm_source=Exinfluencer&utm_content=000026UJ&utm_term=10006555&utm_id=NA-SkillsNetwork-Channel-SkillsNetworkCoursesIBMDA0321ENSkillsNetwork21426264-2021-01-01) under an ODbL: Open Database License. For this project, a randomized subset of the data (approximately 1/8th of the original data) was provided by IBM and is available [here](https://stackoverflow.blog/2019/04/09/the-2019-stack-overflow-developer-survey-results-are-in/?utm_medium=Exinfluencer&utm_source=Exinfluencer&utm_content=000026UJ&utm_term=10006555&utm_id=NA-SkillsNetwork-Channel-SkillsNetworkCoursesIBMDA0321ENSkillsNetwork21426264-2021-01-01)."
   ]
  },
  {
   "cell_type": "code",
   "execution_count": 411,
   "id": "ce2ec401",
   "metadata": {},
   "outputs": [],
   "source": [
    "dataset_url = \"https://cf-courses-data.s3.us.cloud-object-storage.appdomain.cloud/IBM-DA0321EN-SkillsNetwork/LargeData/m1_survey_data.csv\""
   ]
  },
  {
   "cell_type": "markdown",
   "id": "eaa3f7b1",
   "metadata": {},
   "source": [
    "Loading dataset into a dataframe and looking at the first 5 rows to get a feel for the data"
   ]
  },
  {
   "cell_type": "code",
   "execution_count": 412,
   "id": "fb054af2",
   "metadata": {},
   "outputs": [],
   "source": [
    "survey_data = pd.read_csv(dataset_url)"
   ]
  },
  {
   "cell_type": "code",
   "execution_count": 413,
   "id": "e217a961",
   "metadata": {},
   "outputs": [
    {
     "data": {
      "text/html": [
       "<div>\n",
       "<style scoped>\n",
       "    .dataframe tbody tr th:only-of-type {\n",
       "        vertical-align: middle;\n",
       "    }\n",
       "\n",
       "    .dataframe tbody tr th {\n",
       "        vertical-align: top;\n",
       "    }\n",
       "\n",
       "    .dataframe thead th {\n",
       "        text-align: right;\n",
       "    }\n",
       "</style>\n",
       "<table border=\"1\" class=\"dataframe\">\n",
       "  <thead>\n",
       "    <tr style=\"text-align: right;\">\n",
       "      <th></th>\n",
       "      <th>Respondent</th>\n",
       "      <th>MainBranch</th>\n",
       "      <th>Hobbyist</th>\n",
       "      <th>OpenSourcer</th>\n",
       "      <th>OpenSource</th>\n",
       "      <th>Employment</th>\n",
       "      <th>Country</th>\n",
       "      <th>Student</th>\n",
       "      <th>EdLevel</th>\n",
       "      <th>UndergradMajor</th>\n",
       "      <th>...</th>\n",
       "      <th>WelcomeChange</th>\n",
       "      <th>SONewContent</th>\n",
       "      <th>Age</th>\n",
       "      <th>Gender</th>\n",
       "      <th>Trans</th>\n",
       "      <th>Sexuality</th>\n",
       "      <th>Ethnicity</th>\n",
       "      <th>Dependents</th>\n",
       "      <th>SurveyLength</th>\n",
       "      <th>SurveyEase</th>\n",
       "    </tr>\n",
       "  </thead>\n",
       "  <tbody>\n",
       "    <tr>\n",
       "      <th>0</th>\n",
       "      <td>4</td>\n",
       "      <td>I am a developer by profession</td>\n",
       "      <td>No</td>\n",
       "      <td>Never</td>\n",
       "      <td>The quality of OSS and closed source software ...</td>\n",
       "      <td>Employed full-time</td>\n",
       "      <td>United States</td>\n",
       "      <td>No</td>\n",
       "      <td>Bachelor’s degree (BA, BS, B.Eng., etc.)</td>\n",
       "      <td>Computer science, computer engineering, or sof...</td>\n",
       "      <td>...</td>\n",
       "      <td>Just as welcome now as I felt last year</td>\n",
       "      <td>Tech articles written by other developers;Indu...</td>\n",
       "      <td>22.0</td>\n",
       "      <td>Man</td>\n",
       "      <td>No</td>\n",
       "      <td>Straight / Heterosexual</td>\n",
       "      <td>White or of European descent</td>\n",
       "      <td>No</td>\n",
       "      <td>Appropriate in length</td>\n",
       "      <td>Easy</td>\n",
       "    </tr>\n",
       "    <tr>\n",
       "      <th>1</th>\n",
       "      <td>9</td>\n",
       "      <td>I am a developer by profession</td>\n",
       "      <td>Yes</td>\n",
       "      <td>Once a month or more often</td>\n",
       "      <td>The quality of OSS and closed source software ...</td>\n",
       "      <td>Employed full-time</td>\n",
       "      <td>New Zealand</td>\n",
       "      <td>No</td>\n",
       "      <td>Some college/university study without earning ...</td>\n",
       "      <td>Computer science, computer engineering, or sof...</td>\n",
       "      <td>...</td>\n",
       "      <td>Just as welcome now as I felt last year</td>\n",
       "      <td>NaN</td>\n",
       "      <td>23.0</td>\n",
       "      <td>Man</td>\n",
       "      <td>No</td>\n",
       "      <td>Bisexual</td>\n",
       "      <td>White or of European descent</td>\n",
       "      <td>No</td>\n",
       "      <td>Appropriate in length</td>\n",
       "      <td>Neither easy nor difficult</td>\n",
       "    </tr>\n",
       "    <tr>\n",
       "      <th>2</th>\n",
       "      <td>13</td>\n",
       "      <td>I am a developer by profession</td>\n",
       "      <td>Yes</td>\n",
       "      <td>Less than once a month but more than once per ...</td>\n",
       "      <td>OSS is, on average, of HIGHER quality than pro...</td>\n",
       "      <td>Employed full-time</td>\n",
       "      <td>United States</td>\n",
       "      <td>No</td>\n",
       "      <td>Master’s degree (MA, MS, M.Eng., MBA, etc.)</td>\n",
       "      <td>Computer science, computer engineering, or sof...</td>\n",
       "      <td>...</td>\n",
       "      <td>Somewhat more welcome now than last year</td>\n",
       "      <td>Tech articles written by other developers;Cour...</td>\n",
       "      <td>28.0</td>\n",
       "      <td>Man</td>\n",
       "      <td>No</td>\n",
       "      <td>Straight / Heterosexual</td>\n",
       "      <td>White or of European descent</td>\n",
       "      <td>Yes</td>\n",
       "      <td>Appropriate in length</td>\n",
       "      <td>Easy</td>\n",
       "    </tr>\n",
       "    <tr>\n",
       "      <th>3</th>\n",
       "      <td>16</td>\n",
       "      <td>I am a developer by profession</td>\n",
       "      <td>Yes</td>\n",
       "      <td>Never</td>\n",
       "      <td>The quality of OSS and closed source software ...</td>\n",
       "      <td>Employed full-time</td>\n",
       "      <td>United Kingdom</td>\n",
       "      <td>No</td>\n",
       "      <td>Master’s degree (MA, MS, M.Eng., MBA, etc.)</td>\n",
       "      <td>NaN</td>\n",
       "      <td>...</td>\n",
       "      <td>Just as welcome now as I felt last year</td>\n",
       "      <td>Tech articles written by other developers;Indu...</td>\n",
       "      <td>26.0</td>\n",
       "      <td>Man</td>\n",
       "      <td>No</td>\n",
       "      <td>Straight / Heterosexual</td>\n",
       "      <td>White or of European descent</td>\n",
       "      <td>No</td>\n",
       "      <td>Appropriate in length</td>\n",
       "      <td>Neither easy nor difficult</td>\n",
       "    </tr>\n",
       "    <tr>\n",
       "      <th>4</th>\n",
       "      <td>17</td>\n",
       "      <td>I am a developer by profession</td>\n",
       "      <td>Yes</td>\n",
       "      <td>Less than once a month but more than once per ...</td>\n",
       "      <td>The quality of OSS and closed source software ...</td>\n",
       "      <td>Employed full-time</td>\n",
       "      <td>Australia</td>\n",
       "      <td>No</td>\n",
       "      <td>Bachelor’s degree (BA, BS, B.Eng., etc.)</td>\n",
       "      <td>Computer science, computer engineering, or sof...</td>\n",
       "      <td>...</td>\n",
       "      <td>Just as welcome now as I felt last year</td>\n",
       "      <td>Tech articles written by other developers;Indu...</td>\n",
       "      <td>29.0</td>\n",
       "      <td>Man</td>\n",
       "      <td>No</td>\n",
       "      <td>Straight / Heterosexual</td>\n",
       "      <td>Hispanic or Latino/Latina;Multiracial</td>\n",
       "      <td>No</td>\n",
       "      <td>Appropriate in length</td>\n",
       "      <td>Easy</td>\n",
       "    </tr>\n",
       "  </tbody>\n",
       "</table>\n",
       "<p>5 rows × 85 columns</p>\n",
       "</div>"
      ],
      "text/plain": [
       "   Respondent                      MainBranch Hobbyist  \\\n",
       "0           4  I am a developer by profession       No   \n",
       "1           9  I am a developer by profession      Yes   \n",
       "2          13  I am a developer by profession      Yes   \n",
       "3          16  I am a developer by profession      Yes   \n",
       "4          17  I am a developer by profession      Yes   \n",
       "\n",
       "                                         OpenSourcer  \\\n",
       "0                                              Never   \n",
       "1                         Once a month or more often   \n",
       "2  Less than once a month but more than once per ...   \n",
       "3                                              Never   \n",
       "4  Less than once a month but more than once per ...   \n",
       "\n",
       "                                          OpenSource          Employment  \\\n",
       "0  The quality of OSS and closed source software ...  Employed full-time   \n",
       "1  The quality of OSS and closed source software ...  Employed full-time   \n",
       "2  OSS is, on average, of HIGHER quality than pro...  Employed full-time   \n",
       "3  The quality of OSS and closed source software ...  Employed full-time   \n",
       "4  The quality of OSS and closed source software ...  Employed full-time   \n",
       "\n",
       "          Country Student                                            EdLevel  \\\n",
       "0   United States      No           Bachelor’s degree (BA, BS, B.Eng., etc.)   \n",
       "1     New Zealand      No  Some college/university study without earning ...   \n",
       "2   United States      No        Master’s degree (MA, MS, M.Eng., MBA, etc.)   \n",
       "3  United Kingdom      No        Master’s degree (MA, MS, M.Eng., MBA, etc.)   \n",
       "4       Australia      No           Bachelor’s degree (BA, BS, B.Eng., etc.)   \n",
       "\n",
       "                                      UndergradMajor  ...  \\\n",
       "0  Computer science, computer engineering, or sof...  ...   \n",
       "1  Computer science, computer engineering, or sof...  ...   \n",
       "2  Computer science, computer engineering, or sof...  ...   \n",
       "3                                                NaN  ...   \n",
       "4  Computer science, computer engineering, or sof...  ...   \n",
       "\n",
       "                              WelcomeChange  \\\n",
       "0   Just as welcome now as I felt last year   \n",
       "1   Just as welcome now as I felt last year   \n",
       "2  Somewhat more welcome now than last year   \n",
       "3   Just as welcome now as I felt last year   \n",
       "4   Just as welcome now as I felt last year   \n",
       "\n",
       "                                        SONewContent   Age Gender Trans  \\\n",
       "0  Tech articles written by other developers;Indu...  22.0    Man    No   \n",
       "1                                                NaN  23.0    Man    No   \n",
       "2  Tech articles written by other developers;Cour...  28.0    Man    No   \n",
       "3  Tech articles written by other developers;Indu...  26.0    Man    No   \n",
       "4  Tech articles written by other developers;Indu...  29.0    Man    No   \n",
       "\n",
       "                 Sexuality                              Ethnicity Dependents  \\\n",
       "0  Straight / Heterosexual           White or of European descent         No   \n",
       "1                 Bisexual           White or of European descent         No   \n",
       "2  Straight / Heterosexual           White or of European descent        Yes   \n",
       "3  Straight / Heterosexual           White or of European descent         No   \n",
       "4  Straight / Heterosexual  Hispanic or Latino/Latina;Multiracial         No   \n",
       "\n",
       "            SurveyLength                  SurveyEase  \n",
       "0  Appropriate in length                        Easy  \n",
       "1  Appropriate in length  Neither easy nor difficult  \n",
       "2  Appropriate in length                        Easy  \n",
       "3  Appropriate in length  Neither easy nor difficult  \n",
       "4  Appropriate in length                        Easy  \n",
       "\n",
       "[5 rows x 85 columns]"
      ]
     },
     "execution_count": 413,
     "metadata": {},
     "output_type": "execute_result"
    }
   ],
   "source": [
    "survey_data.head()"
   ]
  },
  {
   "cell_type": "markdown",
   "id": "184dd056",
   "metadata": {},
   "source": [
    "Checking dimensions of the dataframe"
   ]
  },
  {
   "cell_type": "code",
   "execution_count": 414,
   "id": "cf44bb49",
   "metadata": {},
   "outputs": [
    {
     "name": "stdout",
     "output_type": "stream",
     "text": [
      "11552\n",
      "85\n"
     ]
    }
   ],
   "source": [
    "print(len(survey_data.index))\n",
    "print(len(survey_data.columns))"
   ]
  },
  {
   "cell_type": "markdown",
   "id": "4f30ee3b",
   "metadata": {},
   "source": [
    "Checking datatypes of dataframe"
   ]
  },
  {
   "cell_type": "code",
   "execution_count": 415,
   "id": "21ccd429",
   "metadata": {},
   "outputs": [
    {
     "data": {
      "text/plain": [
       "Respondent       int64\n",
       "MainBranch      object\n",
       "Hobbyist        object\n",
       "OpenSourcer     object\n",
       "OpenSource      object\n",
       "                 ...  \n",
       "Sexuality       object\n",
       "Ethnicity       object\n",
       "Dependents      object\n",
       "SurveyLength    object\n",
       "SurveyEase      object\n",
       "Length: 85, dtype: object"
      ]
     },
     "execution_count": 415,
     "metadata": {},
     "output_type": "execute_result"
    }
   ],
   "source": [
    "survey_data.dtypes"
   ]
  },
  {
   "cell_type": "markdown",
   "id": "42bed565",
   "metadata": {},
   "source": [
    "Checking average age of respondents and seeing how many different countries had participants"
   ]
  },
  {
   "cell_type": "code",
   "execution_count": 416,
   "id": "a800385b",
   "metadata": {},
   "outputs": [
    {
     "name": "stdout",
     "output_type": "stream",
     "text": [
      "30.77239449133718\n",
      "135\n"
     ]
    }
   ],
   "source": [
    "print(survey_data['Age'].mean())\n",
    "print(len(survey_data['Country'].unique()))"
   ]
  },
  {
   "cell_type": "markdown",
   "id": "aaa36bec",
   "metadata": {},
   "source": [
    "# Data Wrangling"
   ]
  },
  {
   "cell_type": "markdown",
   "id": "94d70fc3",
   "metadata": {},
   "source": [
    "Finding the number of duplicates and then removing them."
   ]
  },
  {
   "cell_type": "code",
   "execution_count": 417,
   "id": "e36eaa4a",
   "metadata": {},
   "outputs": [
    {
     "name": "stdout",
     "output_type": "stream",
     "text": [
      "154\n"
     ]
    }
   ],
   "source": [
    "print(len(survey_data.index)-len(survey_data['Respondent'].unique()))\n",
    "survey_data.drop_duplicates(inplace=True)"
   ]
  },
  {
   "cell_type": "markdown",
   "id": "357b04ab",
   "metadata": {},
   "source": [
    "Verifying duplicates were dropped."
   ]
  },
  {
   "cell_type": "code",
   "execution_count": 418,
   "id": "b924ad98",
   "metadata": {},
   "outputs": [
    {
     "data": {
      "text/plain": [
       "0"
      ]
     },
     "execution_count": 418,
     "metadata": {},
     "output_type": "execute_result"
    }
   ],
   "source": [
    "len(survey_data.index)-len(survey_data['Respondent'].unique())"
   ]
  },
  {
   "cell_type": "markdown",
   "id": "9dbd9392",
   "metadata": {},
   "source": [
    "Finding the missing values for all of the columns."
   ]
  },
  {
   "cell_type": "code",
   "execution_count": 419,
   "id": "a5503f98",
   "metadata": {},
   "outputs": [
    {
     "name": "stdout",
     "output_type": "stream",
     "text": [
      "Respondent\n",
      "False    11398\n",
      "Name: Respondent, dtype: int64\n",
      "\n",
      "MainBranch\n",
      "False    11398\n",
      "Name: MainBranch, dtype: int64\n",
      "\n",
      "Hobbyist\n",
      "False    11398\n",
      "Name: Hobbyist, dtype: int64\n",
      "\n",
      "OpenSourcer\n",
      "False    11398\n",
      "Name: OpenSourcer, dtype: int64\n",
      "\n",
      "OpenSource\n",
      "False    11317\n",
      "True        81\n",
      "Name: OpenSource, dtype: int64\n",
      "\n",
      "Employment\n",
      "False    11398\n",
      "Name: Employment, dtype: int64\n",
      "\n",
      "Country\n",
      "False    11398\n",
      "Name: Country, dtype: int64\n",
      "\n",
      "Student\n",
      "False    11347\n",
      "True        51\n",
      "Name: Student, dtype: int64\n",
      "\n",
      "EdLevel\n",
      "False    11286\n",
      "True       112\n",
      "Name: EdLevel, dtype: int64\n",
      "\n",
      "UndergradMajor\n",
      "False    10661\n",
      "True       737\n",
      "Name: UndergradMajor, dtype: int64\n",
      "\n",
      "EduOther\n",
      "False    11234\n",
      "True       164\n",
      "Name: EduOther, dtype: int64\n",
      "\n",
      "OrgSize\n",
      "False    11302\n",
      "True        96\n",
      "Name: OrgSize, dtype: int64\n",
      "\n",
      "DevType\n",
      "False    11333\n",
      "True        65\n",
      "Name: DevType, dtype: int64\n",
      "\n",
      "YearsCode\n",
      "False    11389\n",
      "True         9\n",
      "Name: YearsCode, dtype: int64\n",
      "\n",
      "Age1stCode\n",
      "False    11385\n",
      "True        13\n",
      "Name: Age1stCode, dtype: int64\n",
      "\n",
      "YearsCodePro\n",
      "False    11382\n",
      "True        16\n",
      "Name: YearsCodePro, dtype: int64\n",
      "\n",
      "CareerSat\n",
      "False    11398\n",
      "Name: CareerSat, dtype: int64\n",
      "\n",
      "JobSat\n",
      "False    11397\n",
      "True         1\n",
      "Name: JobSat, dtype: int64\n",
      "\n",
      "MgrIdiot\n",
      "False    10905\n",
      "True       493\n",
      "Name: MgrIdiot, dtype: int64\n",
      "\n",
      "MgrMoney\n",
      "False    10901\n",
      "True       497\n",
      "Name: MgrMoney, dtype: int64\n",
      "\n",
      "MgrWant\n",
      "False    10905\n",
      "True       493\n",
      "Name: MgrWant, dtype: int64\n",
      "\n",
      "JobSeek\n",
      "False    11398\n",
      "Name: JobSeek, dtype: int64\n",
      "\n",
      "LastHireDate\n",
      "False    11398\n",
      "Name: LastHireDate, dtype: int64\n",
      "\n",
      "LastInt\n",
      "False    10985\n",
      "True       413\n",
      "Name: LastInt, dtype: int64\n",
      "\n",
      "FizzBuzz\n",
      "False    11361\n",
      "True        37\n",
      "Name: FizzBuzz, dtype: int64\n",
      "\n",
      "JobFactors\n",
      "False    11395\n",
      "True         3\n",
      "Name: JobFactors, dtype: int64\n",
      "\n",
      "ResumeUpdate\n",
      "False    11359\n",
      "True        39\n",
      "Name: ResumeUpdate, dtype: int64\n",
      "\n",
      "CurrencySymbol\n",
      "False    11398\n",
      "Name: CurrencySymbol, dtype: int64\n",
      "\n",
      "CurrencyDesc\n",
      "False    11398\n",
      "Name: CurrencyDesc, dtype: int64\n",
      "\n",
      "CompTotal\n",
      "False    10589\n",
      "True       809\n",
      "Name: CompTotal, dtype: int64\n",
      "\n",
      "CompFreq\n",
      "False    11192\n",
      "True       206\n",
      "Name: CompFreq, dtype: int64\n",
      "\n",
      "ConvertedComp\n",
      "False    10582\n",
      "True       816\n",
      "Name: ConvertedComp, dtype: int64\n",
      "\n",
      "WorkWeekHrs\n",
      "False    11276\n",
      "True       122\n",
      "Name: WorkWeekHrs, dtype: int64\n",
      "\n",
      "WorkPlan\n",
      "False    11277\n",
      "True       121\n",
      "Name: WorkPlan, dtype: int64\n",
      "\n",
      "WorkChallenge\n",
      "False    11234\n",
      "True       164\n",
      "Name: WorkChallenge, dtype: int64\n",
      "\n",
      "WorkRemote\n",
      "False    11390\n",
      "True         8\n",
      "Name: WorkRemote, dtype: int64\n",
      "\n",
      "WorkLoc\n",
      "False    11366\n",
      "True        32\n",
      "Name: WorkLoc, dtype: int64\n",
      "\n",
      "ImpSyn\n",
      "False    11393\n",
      "True         5\n",
      "Name: ImpSyn, dtype: int64\n",
      "\n",
      "CodeRev\n",
      "False    11397\n",
      "True         1\n",
      "Name: CodeRev, dtype: int64\n",
      "\n",
      "CodeRevHrs\n",
      "False    8972\n",
      "True     2426\n",
      "Name: CodeRevHrs, dtype: int64\n",
      "\n",
      "UnitTests\n",
      "False    11369\n",
      "True        29\n",
      "Name: UnitTests, dtype: int64\n",
      "\n",
      "PurchaseHow\n",
      "False    11202\n",
      "True       196\n",
      "Name: PurchaseHow, dtype: int64\n",
      "\n",
      "PurchaseWhat\n",
      "False    11360\n",
      "True        38\n",
      "Name: PurchaseWhat, dtype: int64\n",
      "\n",
      "LanguageWorkedWith\n",
      "False    11387\n",
      "True        11\n",
      "Name: LanguageWorkedWith, dtype: int64\n",
      "\n",
      "LanguageDesireNextYear\n",
      "False    11264\n",
      "True       134\n",
      "Name: LanguageDesireNextYear, dtype: int64\n",
      "\n",
      "DatabaseWorkedWith\n",
      "False    10945\n",
      "True       453\n",
      "Name: DatabaseWorkedWith, dtype: int64\n",
      "\n",
      "DatabaseDesireNextYear\n",
      "False    10356\n",
      "True      1042\n",
      "Name: DatabaseDesireNextYear, dtype: int64\n",
      "\n",
      "PlatformWorkedWith\n",
      "False    10987\n",
      "True       411\n",
      "Name: PlatformWorkedWith, dtype: int64\n",
      "\n",
      "PlatformDesireNextYear\n",
      "False    10854\n",
      "True       544\n",
      "Name: PlatformDesireNextYear, dtype: int64\n",
      "\n",
      "WebFrameWorkedWith\n",
      "False    10005\n",
      "True      1393\n",
      "Name: WebFrameWorkedWith, dtype: int64\n",
      "\n",
      "WebFrameDesireNextYear\n",
      "False    9781\n",
      "True     1617\n",
      "Name: WebFrameDesireNextYear, dtype: int64\n",
      "\n",
      "MiscTechWorkedWith\n",
      "False    9216\n",
      "True     2182\n",
      "Name: MiscTechWorkedWith, dtype: int64\n",
      "\n",
      "MiscTechDesireNextYear\n",
      "False    9943\n",
      "True     1455\n",
      "Name: MiscTechDesireNextYear, dtype: int64\n",
      "\n",
      "DevEnviron\n",
      "False    11369\n",
      "True        29\n",
      "Name: DevEnviron, dtype: int64\n",
      "\n",
      "OpSys\n",
      "False    11364\n",
      "True        34\n",
      "Name: OpSys, dtype: int64\n",
      "\n",
      "Containers\n",
      "False    11316\n",
      "True        82\n",
      "Name: Containers, dtype: int64\n",
      "\n",
      "BlockchainOrg\n",
      "False    9076\n",
      "True     2322\n",
      "Name: BlockchainOrg, dtype: int64\n",
      "\n",
      "BlockchainIs\n",
      "False    8788\n",
      "True     2610\n",
      "Name: BlockchainIs, dtype: int64\n",
      "\n",
      "BetterLife\n",
      "False    11300\n",
      "True        98\n",
      "Name: BetterLife, dtype: int64\n",
      "\n",
      "ITperson\n",
      "False    11363\n",
      "True        35\n",
      "Name: ITperson, dtype: int64\n",
      "\n",
      "OffOn\n",
      "False    11360\n",
      "True        38\n",
      "Name: OffOn, dtype: int64\n",
      "\n",
      "SocialMedia\n",
      "False    11105\n",
      "True       293\n",
      "Name: SocialMedia, dtype: int64\n",
      "\n",
      "Extraversion\n",
      "False    11378\n",
      "True        20\n",
      "Name: Extraversion, dtype: int64\n",
      "\n",
      "ScreenName\n",
      "False    10891\n",
      "True       507\n",
      "Name: ScreenName, dtype: int64\n",
      "\n",
      "SOVisit1st\n",
      "False    11073\n",
      "True       325\n",
      "Name: SOVisit1st, dtype: int64\n",
      "\n",
      "SOVisitFreq\n",
      "False    11393\n",
      "True         5\n",
      "Name: SOVisitFreq, dtype: int64\n",
      "\n",
      "SOVisitTo\n",
      "False    11397\n",
      "True         1\n",
      "Name: SOVisitTo, dtype: int64\n",
      "\n",
      "SOFindAnswer\n",
      "False    11395\n",
      "True         3\n",
      "Name: SOFindAnswer, dtype: int64\n",
      "\n",
      "SOTimeSaved\n",
      "False    11348\n",
      "True        50\n",
      "Name: SOTimeSaved, dtype: int64\n",
      "\n",
      "SOHowMuchTime\n",
      "False    9481\n",
      "True     1917\n",
      "Name: SOHowMuchTime, dtype: int64\n",
      "\n",
      "SOAccount\n",
      "False    11397\n",
      "True         1\n",
      "Name: SOAccount, dtype: int64\n",
      "\n",
      "SOPartFreq\n",
      "False    10270\n",
      "True      1128\n",
      "Name: SOPartFreq, dtype: int64\n",
      "\n",
      "SOJobs\n",
      "False    11392\n",
      "True         6\n",
      "Name: SOJobs, dtype: int64\n",
      "\n",
      "EntTeams\n",
      "False    11393\n",
      "True         5\n",
      "Name: EntTeams, dtype: int64\n",
      "\n",
      "SOComm\n",
      "False    11398\n",
      "Name: SOComm, dtype: int64\n",
      "\n",
      "WelcomeChange\n",
      "False    11313\n",
      "True        85\n",
      "Name: WelcomeChange, dtype: int64\n",
      "\n",
      "SONewContent\n",
      "False    9433\n",
      "True     1965\n",
      "Name: SONewContent, dtype: int64\n",
      "\n",
      "Age\n",
      "False    11111\n",
      "True       287\n",
      "Name: Age, dtype: int64\n",
      "\n",
      "Gender\n",
      "False    11325\n",
      "True        73\n",
      "Name: Gender, dtype: int64\n",
      "\n",
      "Trans\n",
      "False    11275\n",
      "True       123\n",
      "Name: Trans, dtype: int64\n",
      "\n",
      "Sexuality\n",
      "False    10856\n",
      "True       542\n",
      "Name: Sexuality, dtype: int64\n",
      "\n",
      "Ethnicity\n",
      "False    10723\n",
      "True       675\n",
      "Name: Ethnicity, dtype: int64\n",
      "\n",
      "Dependents\n",
      "False    11258\n",
      "True       140\n",
      "Name: Dependents, dtype: int64\n",
      "\n",
      "SurveyLength\n",
      "False    11379\n",
      "True        19\n",
      "Name: SurveyLength, dtype: int64\n",
      "\n",
      "SurveyEase\n",
      "False    11384\n",
      "True        14\n",
      "Name: SurveyEase, dtype: int64\n",
      "\n"
     ]
    }
   ],
   "source": [
    "missing_data = survey_data.isnull()\n",
    "for column in missing_data.columns.values.tolist():\n",
    "    print(column)\n",
    "    print (missing_data[column].value_counts())\n",
    "    print(\"\")     "
   ]
  },
  {
   "cell_type": "markdown",
   "id": "17c891be",
   "metadata": {},
   "source": [
    "## Normalizing Pay Data"
   ]
  },
  {
   "cell_type": "markdown",
   "id": "8eb22256",
   "metadata": {},
   "source": [
    "Converting all weekly, monthly, and annual compensations to USD using conversion rates for 2019-02-01.\n",
    "\n",
    "Note: Had to load the conversion rates into a dictionary rather than calling CurrencyRates using lambda as this kept getting stopped due to too many requests. This is a more efficient approach as well I believe.\n",
    "\n",
    "Additionally, several of the currency conversion rates weren't found using the Forex library, so they will be entered using an exchange rate api, found [here](https://www.exchangerate-api.com). This API requires users to create an account to have an API key before the link will work.\n",
    "\n",
    "Note: the required exchange rates were not available on the specified date, so rates on 3/14/2022 were used instead for the missing Forex rates."
   ]
  },
  {
   "cell_type": "code",
   "execution_count": 420,
   "id": "3e8c3ce4",
   "metadata": {},
   "outputs": [],
   "source": [
    "# Note that an API key needs to be entered where indicated.\n",
    "exchange_url = 'https://v6.exchangerate-api.com/v6/YOUR_KEY_HERE/latest/USD'\n",
    "\n",
    "# Requesting data\n",
    "response = requests.get(exchange_url)\n",
    "data = response.json()\n",
    "\n",
    "#print(data)\n",
    "conversionRates2 = data['conversion_rates']"
   ]
  },
  {
   "cell_type": "code",
   "execution_count": 421,
   "id": "c9511f71",
   "metadata": {},
   "outputs": [
    {
     "name": "stdout",
     "output_type": "stream",
     "text": [
      "69\n",
      "{'PKR': 83, 'ARS': 68, 'IRR': 81, 'AED': 20, 'XPF': 2, 'EGP': 34, 'MUR': 2, 'NGN': 40, 'MNT': 2, 'CLP': 21, 'GEL': 8, 'DOP': 14, 'CVE': 1, 'RSD': 36, 'BIF': 1, 'BDT': 55, 'UAH': 71, 'COP': 48, 'GTQ': 10, 'TWD': 22, 'YER': 1, 'BYN': 13, 'NPR': 14, 'KES': 20, 'LBP': 6, 'KWD': 2, 'MDL': 7, 'DZD': 3, 'XOF': 7, 'BND': 1, 'JOD': 7, 'ALL': 11, 'AZN': 5, 'LKR': 34, 'GHS': 5, 'PYG': 2, 'PEN': 12, 'CRC': 6, 'BAM': 9, 'VND': 9, 'RWF': 1, 'TND': 9, 'HNL': 3, 'QAR': 1, 'UYU': 9, 'XAF': 4, 'TMT': 1, 'AMD': 9, 'KGS': 4, 'ANG': 3, 'SOS': 1, 'CUP': 3, 'MKD': 6, 'UGX': 5, 'SYP': 2, 'MAD': 8, 'ETB': 4, 'TZS': 2, 'BOB': 3, 'SAR': 11, 'AFN': 2, 'BHD': 3, 'JMD': 1, 'MMK': 2, 'SDG': 2, 'LYD': 1, 'MZN': 1, 'IQD': 1, 'SZL': 1}\n",
      "0\n",
      "{}\n"
     ]
    },
    {
     "data": {
      "text/html": [
       "<div>\n",
       "<style scoped>\n",
       "    .dataframe tbody tr th:only-of-type {\n",
       "        vertical-align: middle;\n",
       "    }\n",
       "\n",
       "    .dataframe tbody tr th {\n",
       "        vertical-align: top;\n",
       "    }\n",
       "\n",
       "    .dataframe thead th {\n",
       "        text-align: right;\n",
       "    }\n",
       "</style>\n",
       "<table border=\"1\" class=\"dataframe\">\n",
       "  <thead>\n",
       "    <tr style=\"text-align: right;\">\n",
       "      <th></th>\n",
       "      <th>CompTotal</th>\n",
       "      <th>CurrencySymbol</th>\n",
       "      <th>ConvertedComp</th>\n",
       "      <th>Comp_USD</th>\n",
       "    </tr>\n",
       "  </thead>\n",
       "  <tbody>\n",
       "    <tr>\n",
       "      <th>0</th>\n",
       "      <td>61000.0</td>\n",
       "      <td>USD</td>\n",
       "      <td>61000.0</td>\n",
       "      <td>61000.000000</td>\n",
       "    </tr>\n",
       "    <tr>\n",
       "      <th>1</th>\n",
       "      <td>138000.0</td>\n",
       "      <td>NZD</td>\n",
       "      <td>95179.0</td>\n",
       "      <td>95551.276634</td>\n",
       "    </tr>\n",
       "    <tr>\n",
       "      <th>2</th>\n",
       "      <td>90000.0</td>\n",
       "      <td>USD</td>\n",
       "      <td>90000.0</td>\n",
       "      <td>90000.000000</td>\n",
       "    </tr>\n",
       "    <tr>\n",
       "      <th>3</th>\n",
       "      <td>29000.0</td>\n",
       "      <td>GBP</td>\n",
       "      <td>455352.0</td>\n",
       "      <td>37850.332241</td>\n",
       "    </tr>\n",
       "    <tr>\n",
       "      <th>4</th>\n",
       "      <td>90000.0</td>\n",
       "      <td>AUD</td>\n",
       "      <td>65277.0</td>\n",
       "      <td>65386.661600</td>\n",
       "    </tr>\n",
       "    <tr>\n",
       "      <th>5</th>\n",
       "      <td>9500.0</td>\n",
       "      <td>BRL</td>\n",
       "      <td>31140.0</td>\n",
       "      <td>2587.853242</td>\n",
       "    </tr>\n",
       "    <tr>\n",
       "      <th>6</th>\n",
       "      <td>3000.0</td>\n",
       "      <td>EUR</td>\n",
       "      <td>41244.0</td>\n",
       "      <td>3441.300000</td>\n",
       "    </tr>\n",
       "    <tr>\n",
       "      <th>7</th>\n",
       "      <td>103000.0</td>\n",
       "      <td>USD</td>\n",
       "      <td>103000.0</td>\n",
       "      <td>103000.000000</td>\n",
       "    </tr>\n",
       "    <tr>\n",
       "      <th>8</th>\n",
       "      <td>69000.0</td>\n",
       "      <td>USD</td>\n",
       "      <td>69000.0</td>\n",
       "      <td>69000.000000</td>\n",
       "    </tr>\n",
       "    <tr>\n",
       "      <th>9</th>\n",
       "      <td>8000.0</td>\n",
       "      <td>ILS</td>\n",
       "      <td>26388.0</td>\n",
       "      <td>2203.366227</td>\n",
       "    </tr>\n",
       "  </tbody>\n",
       "</table>\n",
       "</div>"
      ],
      "text/plain": [
       "   CompTotal CurrencySymbol  ConvertedComp       Comp_USD\n",
       "0    61000.0            USD        61000.0   61000.000000\n",
       "1   138000.0            NZD        95179.0   95551.276634\n",
       "2    90000.0            USD        90000.0   90000.000000\n",
       "3    29000.0            GBP       455352.0   37850.332241\n",
       "4    90000.0            AUD        65277.0   65386.661600\n",
       "5     9500.0            BRL        31140.0    2587.853242\n",
       "6     3000.0            EUR        41244.0    3441.300000\n",
       "7   103000.0            USD       103000.0  103000.000000\n",
       "8    69000.0            USD        69000.0   69000.000000\n",
       "9     8000.0            ILS        26388.0    2203.366227"
      ]
     },
     "execution_count": 421,
     "metadata": {},
     "output_type": "execute_result"
    }
   ],
   "source": [
    "c = CurrencyRates()\n",
    "rateDate = datetime.datetime(2019,2,1,12)\n",
    "conversionRates = c.get_rates('USD', rateDate)\n",
    "\n",
    "#print(conversionRates)\n",
    "survey_data['Comp_USD'] = np.nan\n",
    "errors = dict()\n",
    "errors2 = dict()\n",
    "#survey_data.assign(**{'In USD': survey_data.apply(convert_to_USD, axis=1)})\n",
    "for ind in survey_data['CurrencySymbol'].index:\n",
    "    try:\n",
    "        survey_data['Comp_USD'][ind] = survey_data['CompTotal'][ind]/conversionRates[survey_data['CurrencySymbol'][ind]]\n",
    "    except: \n",
    "        errors[survey_data['CurrencySymbol'][ind]] = errors.get(survey_data['CurrencySymbol'][ind],0)+1\n",
    "        try:\n",
    "            survey_data['Comp_USD'][ind] = survey_data['CompTotal'][ind]/conversionRates2[survey_data['CurrencySymbol'][ind]]\n",
    "        except:\n",
    "            errors2[survey_data['CurrencySymbol'][ind]] = errors2.get(survey_data['CurrencySymbol'][ind],0)+1\n",
    "        \n",
    "print(len(errors))\n",
    "print(errors)\n",
    "print(len(errors2))\n",
    "print(errors2)\n",
    "\n",
    "survey_data[['CompTotal','CurrencySymbol','ConvertedComp','Comp_USD']].head(10)\n",
    "\n",
    "#survey_data['Amount_USD'] = survey_data.apply(convert_to_USD(survey_data[['CompTotal','CurrencySymbol']]), axis = 1)\n",
    "#survey_data['Amount_USD'] = survey_data.apply(lambda x: c.convert( x.CurrencySymbol, 'USD', x.CompTotal, rateDate), axis = 1)"
   ]
  },
  {
   "cell_type": "code",
   "execution_count": 422,
   "id": "12d14c29",
   "metadata": {},
   "outputs": [
    {
     "name": "stdout",
     "output_type": "stream",
     "text": [
      "0.767\n",
      "0.7661755731845523\n"
     ]
    }
   ],
   "source": [
    "print(conversionRates2.get('GBP'))\n",
    "print(conversionRates.get('GBP'))"
   ]
  },
  {
   "cell_type": "markdown",
   "id": "09d7a488",
   "metadata": {},
   "source": [
    "Checking counts of different payment schedules."
   ]
  },
  {
   "cell_type": "code",
   "execution_count": 423,
   "id": "c0bf5cf4",
   "metadata": {},
   "outputs": [
    {
     "data": {
      "text/plain": [
       "Yearly     6073\n",
       "Monthly    4788\n",
       "Weekly      331\n",
       "Name: CompFreq, dtype: int64"
      ]
     },
     "execution_count": 423,
     "metadata": {},
     "output_type": "execute_result"
    }
   ],
   "source": [
    "survey_data['CompFreq'].unique()\n",
    "survey_data['CompFreq'].value_counts()"
   ]
  },
  {
   "cell_type": "markdown",
   "id": "d09f4e00",
   "metadata": {},
   "source": [
    "Appending a normalized annual compensation column for making comparisons and to replace NaN values for compensation. Assumed 50 working weeks in a year."
   ]
  },
  {
   "cell_type": "code",
   "execution_count": 424,
   "id": "5746292d",
   "metadata": {},
   "outputs": [
    {
     "data": {
      "text/plain": [
       "57813.840000000004"
      ]
     },
     "execution_count": 424,
     "metadata": {},
     "output_type": "execute_result"
    }
   ],
   "source": [
    "pd.options.mode.chained_assignment = None #removing SettingWithCopyWarning that pops up. Not an issue.\n",
    "\n",
    "survey_data['NormalizedAnnualCompensation'] = np.nan\n",
    "\n",
    "for ind in survey_data['CompFreq'].index:\n",
    "    if survey_data['CompFreq'][ind] == 'Yearly':\n",
    "        survey_data['NormalizedAnnualCompensation'][ind]=survey_data['Comp_USD'][ind]\n",
    "    elif survey_data['CompFreq'][ind] == 'Monthly':\n",
    "        survey_data['NormalizedAnnualCompensation'][ind]=survey_data['Comp_USD'][ind]*12\n",
    "    else :#for weekly pay\n",
    "        survey_data['NormalizedAnnualCompensation'][ind]=survey_data['Comp_USD'][ind]*50\n",
    "survey_data[['CompTotal','CompFreq','Comp_USD','NormalizedAnnualCompensation']].head()\n",
    "survey_data['NormalizedAnnualCompensation'].median()"
   ]
  },
  {
   "cell_type": "markdown",
   "id": "325572d1",
   "metadata": {},
   "source": [
    "## Imputing Missing Values"
   ]
  },
  {
   "cell_type": "markdown",
   "id": "97839a77",
   "metadata": {},
   "source": [
    "Finding the value counts for the column WorkLoc."
   ]
  },
  {
   "cell_type": "code",
   "execution_count": 425,
   "id": "61e71ecd",
   "metadata": {},
   "outputs": [
    {
     "data": {
      "text/plain": [
       "Office                                            6806\n",
       "Home                                              3589\n",
       "Other place, such as a coworking space or cafe     971\n",
       "Name: WorkLoc, dtype: int64"
      ]
     },
     "execution_count": 425,
     "metadata": {},
     "output_type": "execute_result"
    }
   ],
   "source": [
    "survey_data['WorkLoc'].value_counts()"
   ]
  },
  {
   "cell_type": "markdown",
   "id": "d8f130f3",
   "metadata": {},
   "source": [
    "Replacing all the empty rows in WorkLoc with the most common."
   ]
  },
  {
   "cell_type": "code",
   "execution_count": 426,
   "id": "34d815aa",
   "metadata": {},
   "outputs": [],
   "source": [
    "survey_data[\"WorkLoc\"].replace(np.nan, 'Office', inplace=True)"
   ]
  },
  {
   "cell_type": "markdown",
   "id": "4fa6178e",
   "metadata": {},
   "source": [
    "Verifying if replacement was successful."
   ]
  },
  {
   "cell_type": "code",
   "execution_count": 427,
   "id": "ac0547e4",
   "metadata": {},
   "outputs": [
    {
     "data": {
      "text/plain": [
       "False    11398\n",
       "Name: WorkLoc, dtype: int64"
      ]
     },
     "execution_count": 427,
     "metadata": {},
     "output_type": "execute_result"
    }
   ],
   "source": [
    "missing_data = survey_data.isnull()\n",
    "\n",
    "missing_data['WorkLoc'].value_counts()"
   ]
  },
  {
   "cell_type": "markdown",
   "id": "e3957f10",
   "metadata": {},
   "source": [
    "Finding missing values for \"NormalizedAnnualCompensation\"."
   ]
  },
  {
   "cell_type": "code",
   "execution_count": 428,
   "id": "662ea4d7",
   "metadata": {},
   "outputs": [
    {
     "data": {
      "text/plain": [
       "False    10589\n",
       "True       809\n",
       "Name: NormalizedAnnualCompensation, dtype: int64"
      ]
     },
     "execution_count": 428,
     "metadata": {},
     "output_type": "execute_result"
    }
   ],
   "source": [
    "missing_data2 = survey_data.isnull()\n",
    "missing_data2['NormalizedAnnualCompensation'].value_counts()"
   ]
  },
  {
   "cell_type": "markdown",
   "id": "d4caf6d9",
   "metadata": {},
   "source": [
    "Replacing missing values with the median for \"NormalizedAnnualCompensation\" and verifying replacement was successful."
   ]
  },
  {
   "cell_type": "code",
   "execution_count": 429,
   "id": "28874dd3",
   "metadata": {},
   "outputs": [
    {
     "data": {
      "text/plain": [
       "False    11398\n",
       "Name: NormalizedAnnualCompensation, dtype: int64"
      ]
     },
     "execution_count": 429,
     "metadata": {},
     "output_type": "execute_result"
    }
   ],
   "source": [
    "medianPay = survey_data['NormalizedAnnualCompensation'].median()\n",
    "survey_data[\"NormalizedAnnualCompensation\"].replace(np.nan, medianPay, inplace=True)\n",
    "\n",
    "missing_data3 = survey_data.isnull()\n",
    "missing_data3['NormalizedAnnualCompensation'].value_counts()"
   ]
  },
  {
   "cell_type": "markdown",
   "id": "fc40871f",
   "metadata": {},
   "source": [
    "# Exploratory Data Analysis"
   ]
  },
  {
   "cell_type": "markdown",
   "id": "f434c80c",
   "metadata": {},
   "source": [
    "## Distribution"
   ]
  },
  {
   "cell_type": "markdown",
   "id": "bea66769",
   "metadata": {},
   "source": [
    "The column \"NormalizedAnnualCompensation\" contains salary converted to annualized USD salaries, assuming 12 working months and 50 working weeks.\n",
    "The distribution curve for the column \"NormalizedAnnualCompensation\" is below."
   ]
  },
  {
   "cell_type": "code",
   "execution_count": 430,
   "id": "c271dca0",
   "metadata": {},
   "outputs": [
    {
     "data": {
      "image/png": "[encoded data removed]",
      "text/plain": [
       "<Figure size 360x360 with 1 Axes>"
      ]
     },
     "metadata": {
      "needs_background": "light"
     },
     "output_type": "display_data"
    }
   ],
   "source": [
    "sns.displot(data=survey_data, x='NormalizedAnnualCompensation', kind='kde',color='green')\n",
    "plt.show()"
   ]
  },
  {
   "cell_type": "markdown",
   "id": "96c53532",
   "metadata": {},
   "source": [
    "Plotting the same data as a histogram"
   ]
  },
  {
   "cell_type": "code",
   "execution_count": 431,
   "id": "ce0b9d27",
   "metadata": {},
   "outputs": [
    {
     "data": {
      "image/png": "[encoded data removed]",
      "text/plain": [
       "<Figure size 360x360 with 1 Axes>"
      ]
     },
     "metadata": {
      "needs_background": "light"
     },
     "output_type": "display_data"
    }
   ],
   "source": [
    "sns.displot(data=survey_data, x='NormalizedAnnualCompensation',kind='hist',color='green')\n",
    "plt.show()"
   ]
  },
  {
   "cell_type": "markdown",
   "id": "43f11206",
   "metadata": {},
   "source": [
    "Looking at the mean, median, and standard deviation for the \"NormalizedAnnualCompensation\" column."
   ]
  },
  {
   "cell_type": "code",
   "execution_count": 432,
   "id": "85b8d551",
   "metadata": {},
   "outputs": [
    {
     "name": "stdout",
     "output_type": "stream",
     "text": [
      "Median Compensation:  57813.840000000004\n",
      "Mean Compensation:  183913.58938740665\n",
      "Compensation Standard Deviation:  1066576.036111601\n"
     ]
    }
   ],
   "source": [
    "print(\"Median Compensation: \", survey_data['NormalizedAnnualCompensation'].median())\n",
    "print(\"Mean Compensation: \", survey_data['NormalizedAnnualCompensation'].mean())\n",
    "print(\"Compensation Standard Deviation: \", survey_data['NormalizedAnnualCompensation'].std())"
   ]
  },
  {
   "cell_type": "markdown",
   "id": "65b5998b",
   "metadata": {},
   "source": [
    "Looking at the gender of respondents, we can see that the vast majority of respondents were men."
   ]
  },
  {
   "cell_type": "code",
   "execution_count": 433,
   "id": "54b48c26",
   "metadata": {},
   "outputs": [
    {
     "data": {
      "text/plain": [
       "Man                                                            10480\n",
       "Woman                                                            731\n",
       "Non-binary, genderqueer, or gender non-conforming                 63\n",
       "Man;Non-binary, genderqueer, or gender non-conforming             26\n",
       "Woman;Non-binary, genderqueer, or gender non-conforming           14\n",
       "Woman;Man                                                          9\n",
       "Woman;Man;Non-binary, genderqueer, or gender non-conforming        2\n",
       "Name: Gender, dtype: int64"
      ]
     },
     "execution_count": 433,
     "metadata": {},
     "output_type": "execute_result"
    }
   ],
   "source": [
    "survey_data['Gender'].value_counts()"
   ]
  },
  {
   "cell_type": "markdown",
   "id": "bc436709",
   "metadata": {},
   "source": [
    "Exploring the gender wage gap."
   ]
  },
  {
   "cell_type": "code",
   "execution_count": 434,
   "id": "e384cb63",
   "metadata": {},
   "outputs": [
    {
     "name": "stdout",
     "output_type": "stream",
     "text": [
      "Median Pay for Women:  57813.840000000004\n",
      "Mean Pay for Women:  115535.04534321668\n",
      "Number of Respondents Identifying as Women:  731\n",
      "\n",
      "Median Pay for Men:  57813.840000000004\n",
      "Mean Pay for Men:  188477.22147390075\n",
      "Number of Respondents Identifying as Men:  10480\n"
     ]
    }
   ],
   "source": [
    "dfW = survey_data[survey_data['Gender']=='Woman']\n",
    "print(\"Median Pay for Women: \", dfW['NormalizedAnnualCompensation'].median())\n",
    "print(\"Mean Pay for Women: \", dfW['NormalizedAnnualCompensation'].mean())\n",
    "print(\"Number of Respondents Identifying as Women: \", len(dfW.index))\n",
    "print(\"\")\n",
    "dfM = survey_data[survey_data['Gender']=='Man']\n",
    "print(\"Median Pay for Men: \", dfM['NormalizedAnnualCompensation'].median())\n",
    "print(\"Mean Pay for Men: \", dfM['NormalizedAnnualCompensation'].mean())\n",
    "print(\"Number of Respondents Identifying as Men: \", len(dfM.index))"
   ]
  },
  {
   "cell_type": "markdown",
   "id": "5eb7bd02",
   "metadata": {},
   "source": [
    "Looking at the 5 number summary for the \"Age\" column."
   ]
  },
  {
   "cell_type": "code",
   "execution_count": 435,
   "id": "130b4eed",
   "metadata": {},
   "outputs": [
    {
     "data": {
      "text/plain": [
       "99.0"
      ]
     },
     "execution_count": 435,
     "metadata": {},
     "output_type": "execute_result"
    }
   ],
   "source": [
    "dfA = survey_data['Age']\n",
    "dfA.min()\n",
    "q1 = dfA.quantile(0.25)\n",
    "dfA.median()\n",
    "q3 = dfA.quantile(0.75)\n",
    "dfA.max()"
   ]
  },
  {
   "cell_type": "markdown",
   "id": "96fdf10d",
   "metadata": {},
   "source": [
    "Visualizing the \"Age\" column as a histogram."
   ]
  },
  {
   "cell_type": "code",
   "execution_count": 436,
   "id": "1e714934",
   "metadata": {},
   "outputs": [
    {
     "data": {
      "image/png": "[encoded data removed]",
      "text/plain": [
       "<Figure size 360x360 with 1 Axes>"
      ]
     },
     "metadata": {
      "needs_background": "light"
     },
     "output_type": "display_data"
    }
   ],
   "source": [
    "sns.displot(data=survey_data, x='Age',kind='hist',color='green')\n",
    "plt.show()"
   ]
  },
  {
   "cell_type": "markdown",
   "id": "cced0bcc",
   "metadata": {},
   "source": [
    "## Outliers"
   ]
  },
  {
   "cell_type": "markdown",
   "id": "0458fb0c",
   "metadata": {},
   "source": [
    "Using a boxplot to check if any outliers exist in the \"ConvertedComp\" Column."
   ]
  },
  {
   "cell_type": "code",
   "execution_count": 437,
   "id": "ea266fb6",
   "metadata": {},
   "outputs": [
    {
     "data": {
      "image/png": "[encoded data removed]",
      "text/plain": [
       "<Figure size 432x288 with 1 Axes>"
      ]
     },
     "metadata": {
      "needs_background": "light"
     },
     "output_type": "display_data"
    }
   ],
   "source": [
    "ax = sns.boxplot(x=\"NormalizedAnnualCompensation\", data=survey_data)"
   ]
  },
  {
   "cell_type": "markdown",
   "id": "beef1361",
   "metadata": {},
   "source": [
    "Inter Quartile Range for the column \"ConvertedComp\"."
   ]
  },
  {
   "cell_type": "code",
   "execution_count": 438,
   "id": "e6564051",
   "metadata": {},
   "outputs": [
    {
     "name": "stdout",
     "output_type": "stream",
     "text": [
      "66285.95485162934\n"
     ]
    }
   ],
   "source": [
    "q1 = survey_data['NormalizedAnnualCompensation'].quantile(0.25)\n",
    "survey_data['NormalizedAnnualCompensation'].median()\n",
    "q3 = survey_data['NormalizedAnnualCompensation'].quantile(0.75)\n",
    "IQR = q3-q1\n",
    "print(IQR)"
   ]
  },
  {
   "cell_type": "markdown",
   "id": "8fb3f558",
   "metadata": {},
   "source": [
    "Finding the upper and lower bounds."
   ]
  },
  {
   "cell_type": "code",
   "execution_count": 439,
   "id": "13a5e6f7",
   "metadata": {},
   "outputs": [
    {
     "name": "stdout",
     "output_type": "stream",
     "text": [
      "-70714.88712907337 194428.93227744402\n"
     ]
    }
   ],
   "source": [
    "lower = q1-1.5*IQR\n",
    "upper = q3+1.5*IQR\n",
    "print(lower, upper)"
   ]
  },
  {
   "cell_type": "markdown",
   "id": "5307bb79",
   "metadata": {},
   "source": [
    "Identifying how many outliers there are in the \"NormalizedAnnualCompensation\" column."
   ]
  },
  {
   "cell_type": "code",
   "execution_count": 440,
   "id": "fdc1f4a8",
   "metadata": {},
   "outputs": [
    {
     "data": {
      "text/plain": [
       "934"
      ]
     },
     "execution_count": 440,
     "metadata": {},
     "output_type": "execute_result"
    }
   ],
   "source": [
    "survey_data[(survey_data['NormalizedAnnualCompensation'] < lower) | (survey_data['NormalizedAnnualCompensation'] > upper)].NormalizedAnnualCompensation.count()"
   ]
  },
  {
   "cell_type": "markdown",
   "id": "ec14da47",
   "metadata": {},
   "source": [
    "Removing outliers and creating a new dataframe."
   ]
  },
  {
   "cell_type": "code",
   "execution_count": 441,
   "id": "b3433939",
   "metadata": {},
   "outputs": [
    {
     "name": "stdout",
     "output_type": "stream",
     "text": [
      "Number of Outliers Removed:  934\n"
     ]
    }
   ],
   "source": [
    "dfNoOutliers = survey_data[(survey_data['NormalizedAnnualCompensation'] >= lower) & (survey_data['NormalizedAnnualCompensation'] <= upper)] #this gave a length of 9703\n",
    "print(\"Number of Outliers Removed: \", len(survey_data.index)-len(dfNoOutliers.index))"
   ]
  },
  {
   "cell_type": "markdown",
   "id": "f3fe2ae2",
   "metadata": {},
   "source": [
    "## Re-examining Distribution After Removal of Outliers"
   ]
  },
  {
   "cell_type": "code",
   "execution_count": 442,
   "id": "76c34753",
   "metadata": {},
   "outputs": [
    {
     "data": {
      "image/png": "[encoded data removed]",
      "text/plain": [
       "<Figure size 360x360 with 1 Axes>"
      ]
     },
     "metadata": {
      "needs_background": "light"
     },
     "output_type": "display_data"
    }
   ],
   "source": [
    "sns.displot(data=dfNoOutliers, x='NormalizedAnnualCompensation', kind='kde',color='green')\n",
    "plt.show()"
   ]
  },
  {
   "cell_type": "code",
   "execution_count": 443,
   "id": "2baa7bf0",
   "metadata": {},
   "outputs": [
    {
     "data": {
      "image/png": "[encoded data removed]",
      "text/plain": [
       "<Figure size 360x360 with 1 Axes>"
      ]
     },
     "metadata": {
      "needs_background": "light"
     },
     "output_type": "display_data"
    }
   ],
   "source": [
    "sns.displot(data=dfNoOutliers, x='NormalizedAnnualCompensation',kind='hist',color='green')\n",
    "plt.show()"
   ]
  },
  {
   "cell_type": "markdown",
   "id": "663d6bf1",
   "metadata": {},
   "source": [
    "Looking at the mean, median, and standard deviation for the \"NormalizedAnnualCompensation\" column after removing outliers."
   ]
  },
  {
   "cell_type": "code",
   "execution_count": 444,
   "id": "521aa457",
   "metadata": {},
   "outputs": [
    {
     "name": "stdout",
     "output_type": "stream",
     "text": [
      "Median Compensation:  57355.0\n",
      "Mean Compensation:  58875.30629911383\n",
      "Compensation Standard Deviation:  40779.24939644233\n"
     ]
    }
   ],
   "source": [
    "print(\"Median Compensation: \", dfNoOutliers['NormalizedAnnualCompensation'].median())\n",
    "print(\"Mean Compensation: \", dfNoOutliers['NormalizedAnnualCompensation'].mean())\n",
    "print(\"Compensation Standard Deviation: \", dfNoOutliers['NormalizedAnnualCompensation'].std())"
   ]
  },
  {
   "cell_type": "markdown",
   "id": "fd823289",
   "metadata": {},
   "source": [
    "Looking at the gender counts, removal of outliers did not seem to disproportionately affect any gender group."
   ]
  },
  {
   "cell_type": "code",
   "execution_count": 445,
   "id": "0ca4afad",
   "metadata": {},
   "outputs": [
    {
     "data": {
      "text/plain": [
       "Man                                                            9598\n",
       "Woman                                                           692\n",
       "Non-binary, genderqueer, or gender non-conforming                56\n",
       "Man;Non-binary, genderqueer, or gender non-conforming            26\n",
       "Woman;Non-binary, genderqueer, or gender non-conforming          14\n",
       "Woman;Man                                                         9\n",
       "Woman;Man;Non-binary, genderqueer, or gender non-conforming       2\n",
       "Name: Gender, dtype: int64"
      ]
     },
     "execution_count": 445,
     "metadata": {},
     "output_type": "execute_result"
    }
   ],
   "source": [
    "dfNoOutliers['Gender'].value_counts()"
   ]
  },
  {
   "cell_type": "code",
   "execution_count": 446,
   "id": "688db6af",
   "metadata": {},
   "outputs": [
    {
     "name": "stdout",
     "output_type": "stream",
     "text": [
      "Median Pay for Women:  57813.840000000004\n",
      "Mean Pay for Women:  60037.05594762821\n",
      "Number of Respondents Identifying as Women:  692\n",
      "\n",
      "Median Pay for Men:  57355.0\n",
      "Mean Pay for Men:  58718.83843403932\n",
      "Number of Respondents Identifying as Men:  9598\n"
     ]
    }
   ],
   "source": [
    "dfW = dfNoOutliers[dfNoOutliers['Gender']=='Woman']\n",
    "print(\"Median Pay for Women: \", dfW['NormalizedAnnualCompensation'].median())\n",
    "print(\"Mean Pay for Women: \", dfW['NormalizedAnnualCompensation'].mean())\n",
    "print(\"Number of Respondents Identifying as Women: \", len(dfW.index))\n",
    "print(\"\")\n",
    "dfM = dfNoOutliers[dfNoOutliers['Gender']=='Man']\n",
    "print(\"Median Pay for Men: \", dfM['NormalizedAnnualCompensation'].median())\n",
    "print(\"Mean Pay for Men: \", dfM['NormalizedAnnualCompensation'].mean())\n",
    "print(\"Number of Respondents Identifying as Men: \", len(dfM.index))"
   ]
  },
  {
   "cell_type": "markdown",
   "id": "9004497d",
   "metadata": {},
   "source": [
    "## Correlations"
   ]
  },
  {
   "cell_type": "markdown",
   "id": "2d4efb5e",
   "metadata": {},
   "source": [
    "Find the correlation between \"Age\" and all other numerical columns."
   ]
  },
  {
   "cell_type": "code",
   "execution_count": 447,
   "id": "d531b0de",
   "metadata": {},
   "outputs": [
    {
     "data": {
      "text/plain": [
       "Respondent                      0.004115\n",
       "CompTotal                       0.006645\n",
       "ConvertedComp                   0.403034\n",
       "WorkWeekHrs                     0.037284\n",
       "CodeRevHrs                     -0.017195\n",
       "Age                             1.000000\n",
       "Comp_USD                        0.339989\n",
       "NormalizedAnnualCompensation    0.387074\n",
       "Name: Age, dtype: float64"
      ]
     },
     "execution_count": 447,
     "metadata": {},
     "output_type": "execute_result"
    }
   ],
   "source": [
    "dfNoOutliers.corr()['Age']"
   ]
  },
  {
   "cell_type": "markdown",
   "id": "8cb63a58",
   "metadata": {},
   "source": [
    "Find the correlation between \"NormalizedAnnualCompensation\" and all other numerical columns."
   ]
  },
  {
   "cell_type": "code",
   "execution_count": 448,
   "id": "0e51c221",
   "metadata": {},
   "outputs": [
    {
     "data": {
      "text/plain": [
       "Respondent                      0.013446\n",
       "CompTotal                      -0.065367\n",
       "ConvertedComp                   0.994309\n",
       "WorkWeekHrs                     0.030370\n",
       "CodeRevHrs                     -0.086295\n",
       "Age                             0.387074\n",
       "Comp_USD                        0.900355\n",
       "NormalizedAnnualCompensation    1.000000\n",
       "Name: NormalizedAnnualCompensation, dtype: float64"
      ]
     },
     "execution_count": 448,
     "metadata": {},
     "output_type": "execute_result"
    }
   ],
   "source": [
    "dfNoOutliers.corr()['NormalizedAnnualCompensation']"
   ]
  },
  {
   "cell_type": "markdown",
   "id": "72ba2da3",
   "metadata": {},
   "source": [
    "# Exporting data"
   ]
  },
  {
   "cell_type": "markdown",
   "id": "ee6e368b",
   "metadata": {},
   "source": [
    "The data was exported and visualized using IBM Cognos Analytics. The results of this visualization are available [here](https://dataplatform.cloud.ibm.com/dashboards/eef55238-e891-4854-8c71-7e249454b9dc/view/5266d52125b42adf16b0dce4079a290e7b632755b2bb840783817b495c652797a86d41c3c8791e0ed9165636a7bd4458c1)"
   ]
  },
  {
   "cell_type": "code",
   "execution_count": 449,
   "id": "abbb19aa",
   "metadata": {},
   "outputs": [],
   "source": [
    "dfNoOutliers.to_excel(\"SurveyData_Cleaned_ForCognos.xlsx\")"
   ]
  },
  {
   "cell_type": "code",
   "execution_count": null,
   "id": "dcd36e19",
   "metadata": {},
   "outputs": [],
   "source": []
  }
 ],
 "metadata": {
  "kernelspec": {
   "display_name": "Python 3 (ipykernel)",
   "language": "python",
   "name": "python3"
  },
  "language_info": {
   "codemirror_mode": {
    "name": "ipython",
    "version": 3
   },
   "file_extension": ".py",
   "mimetype": "text/x-python",
   "name": "python",
   "nbconvert_exporter": "python",
   "pygments_lexer": "ipython3",
   "version": "3.9.7"
  }
 },
 "nbformat": 4,
 "nbformat_minor": 5
}
